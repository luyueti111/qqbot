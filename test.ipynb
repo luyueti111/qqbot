{
 "cells": [
  {
   "cell_type": "code",
   "execution_count": 18,
   "metadata": {
    "collapsed": true
   },
   "outputs": [
    {
     "data": {
      "text/plain": "          0         1         2         3         4\n0  0.768740  1.005517 -1.043972 -2.587865 -0.217278\n1  1.534356 -0.051184 -0.079000 -0.975265 -0.425842\n2  0.787309 -0.445309 -1.468585 -1.302142 -0.165348\n3 -1.609889 -1.022854 -0.807575  1.598512 -1.543254\n4 -0.343437 -0.643723  0.318130 -1.581911 -0.956162",
      "text/html": "<div>\n<style scoped>\n    .dataframe tbody tr th:only-of-type {\n        vertical-align: middle;\n    }\n\n    .dataframe tbody tr th {\n        vertical-align: top;\n    }\n\n    .dataframe thead th {\n        text-align: right;\n    }\n</style>\n<table border=\"1\" class=\"dataframe\">\n  <thead>\n    <tr style=\"text-align: right;\">\n      <th></th>\n      <th>0</th>\n      <th>1</th>\n      <th>2</th>\n      <th>3</th>\n      <th>4</th>\n    </tr>\n  </thead>\n  <tbody>\n    <tr>\n      <th>0</th>\n      <td>0.768740</td>\n      <td>1.005517</td>\n      <td>-1.043972</td>\n      <td>-2.587865</td>\n      <td>-0.217278</td>\n    </tr>\n    <tr>\n      <th>1</th>\n      <td>1.534356</td>\n      <td>-0.051184</td>\n      <td>-0.079000</td>\n      <td>-0.975265</td>\n      <td>-0.425842</td>\n    </tr>\n    <tr>\n      <th>2</th>\n      <td>0.787309</td>\n      <td>-0.445309</td>\n      <td>-1.468585</td>\n      <td>-1.302142</td>\n      <td>-0.165348</td>\n    </tr>\n    <tr>\n      <th>3</th>\n      <td>-1.609889</td>\n      <td>-1.022854</td>\n      <td>-0.807575</td>\n      <td>1.598512</td>\n      <td>-1.543254</td>\n    </tr>\n    <tr>\n      <th>4</th>\n      <td>-0.343437</td>\n      <td>-0.643723</td>\n      <td>0.318130</td>\n      <td>-1.581911</td>\n      <td>-0.956162</td>\n    </tr>\n  </tbody>\n</table>\n</div>"
     },
     "execution_count": 18,
     "metadata": {},
     "output_type": "execute_result"
    }
   ],
   "source": [
    "import pandas as pd\n",
    "import numpy as np\n",
    "\n",
    "x = np.random.normal(0, 1, (5, 5))\n",
    "df = pd.DataFrame(x)\n",
    "df"
   ]
  },
  {
   "cell_type": "code",
   "execution_count": 19,
   "outputs": [
    {
     "data": {
      "text/plain": "    p  q     value\n0   0  0  0.768740\n1   1  0  1.534356\n2   2  0  0.787309\n3   3  0 -1.609889\n4   4  0 -0.343437\n5   0  1  1.005517\n6   1  1 -0.051184\n7   2  1 -0.445309\n8   3  1 -1.022854\n9   4  1 -0.643723\n10  0  2 -1.043972\n11  1  2 -0.079000\n12  2  2 -1.468585\n13  3  2 -0.807575\n14  4  2  0.318130\n15  0  3 -2.587865\n16  1  3 -0.975265\n17  2  3 -1.302142\n18  3  3  1.598512\n19  4  3 -1.581911\n20  0  4 -0.217278\n21  1  4 -0.425842\n22  2  4 -0.165348\n23  3  4 -1.543254\n24  4  4 -0.956162",
      "text/html": "<div>\n<style scoped>\n    .dataframe tbody tr th:only-of-type {\n        vertical-align: middle;\n    }\n\n    .dataframe tbody tr th {\n        vertical-align: top;\n    }\n\n    .dataframe thead th {\n        text-align: right;\n    }\n</style>\n<table border=\"1\" class=\"dataframe\">\n  <thead>\n    <tr style=\"text-align: right;\">\n      <th></th>\n      <th>p</th>\n      <th>q</th>\n      <th>value</th>\n    </tr>\n  </thead>\n  <tbody>\n    <tr>\n      <th>0</th>\n      <td>0</td>\n      <td>0</td>\n      <td>0.768740</td>\n    </tr>\n    <tr>\n      <th>1</th>\n      <td>1</td>\n      <td>0</td>\n      <td>1.534356</td>\n    </tr>\n    <tr>\n      <th>2</th>\n      <td>2</td>\n      <td>0</td>\n      <td>0.787309</td>\n    </tr>\n    <tr>\n      <th>3</th>\n      <td>3</td>\n      <td>0</td>\n      <td>-1.609889</td>\n    </tr>\n    <tr>\n      <th>4</th>\n      <td>4</td>\n      <td>0</td>\n      <td>-0.343437</td>\n    </tr>\n    <tr>\n      <th>5</th>\n      <td>0</td>\n      <td>1</td>\n      <td>1.005517</td>\n    </tr>\n    <tr>\n      <th>6</th>\n      <td>1</td>\n      <td>1</td>\n      <td>-0.051184</td>\n    </tr>\n    <tr>\n      <th>7</th>\n      <td>2</td>\n      <td>1</td>\n      <td>-0.445309</td>\n    </tr>\n    <tr>\n      <th>8</th>\n      <td>3</td>\n      <td>1</td>\n      <td>-1.022854</td>\n    </tr>\n    <tr>\n      <th>9</th>\n      <td>4</td>\n      <td>1</td>\n      <td>-0.643723</td>\n    </tr>\n    <tr>\n      <th>10</th>\n      <td>0</td>\n      <td>2</td>\n      <td>-1.043972</td>\n    </tr>\n    <tr>\n      <th>11</th>\n      <td>1</td>\n      <td>2</td>\n      <td>-0.079000</td>\n    </tr>\n    <tr>\n      <th>12</th>\n      <td>2</td>\n      <td>2</td>\n      <td>-1.468585</td>\n    </tr>\n    <tr>\n      <th>13</th>\n      <td>3</td>\n      <td>2</td>\n      <td>-0.807575</td>\n    </tr>\n    <tr>\n      <th>14</th>\n      <td>4</td>\n      <td>2</td>\n      <td>0.318130</td>\n    </tr>\n    <tr>\n      <th>15</th>\n      <td>0</td>\n      <td>3</td>\n      <td>-2.587865</td>\n    </tr>\n    <tr>\n      <th>16</th>\n      <td>1</td>\n      <td>3</td>\n      <td>-0.975265</td>\n    </tr>\n    <tr>\n      <th>17</th>\n      <td>2</td>\n      <td>3</td>\n      <td>-1.302142</td>\n    </tr>\n    <tr>\n      <th>18</th>\n      <td>3</td>\n      <td>3</td>\n      <td>1.598512</td>\n    </tr>\n    <tr>\n      <th>19</th>\n      <td>4</td>\n      <td>3</td>\n      <td>-1.581911</td>\n    </tr>\n    <tr>\n      <th>20</th>\n      <td>0</td>\n      <td>4</td>\n      <td>-0.217278</td>\n    </tr>\n    <tr>\n      <th>21</th>\n      <td>1</td>\n      <td>4</td>\n      <td>-0.425842</td>\n    </tr>\n    <tr>\n      <th>22</th>\n      <td>2</td>\n      <td>4</td>\n      <td>-0.165348</td>\n    </tr>\n    <tr>\n      <th>23</th>\n      <td>3</td>\n      <td>4</td>\n      <td>-1.543254</td>\n    </tr>\n    <tr>\n      <th>24</th>\n      <td>4</td>\n      <td>4</td>\n      <td>-0.956162</td>\n    </tr>\n  </tbody>\n</table>\n</div>"
     },
     "execution_count": 19,
     "metadata": {},
     "output_type": "execute_result"
    }
   ],
   "source": [
    "df[\"index\"] = range(0, 5)\n",
    "df = df.melt(id_vars=\"index\")\n",
    "df = df.rename(columns={'index':'p', 'variable':'q'})\n",
    "df"
   ],
   "metadata": {
    "collapsed": false,
    "pycharm": {
     "name": "#%%\n"
    }
   }
  }
 ],
 "metadata": {
  "kernelspec": {
   "display_name": "Python 3",
   "language": "python",
   "name": "python3"
  },
  "language_info": {
   "codemirror_mode": {
    "name": "ipython",
    "version": 2
   },
   "file_extension": ".py",
   "mimetype": "text/x-python",
   "name": "python",
   "nbconvert_exporter": "python",
   "pygments_lexer": "ipython2",
   "version": "2.7.6"
  }
 },
 "nbformat": 4,
 "nbformat_minor": 0
}